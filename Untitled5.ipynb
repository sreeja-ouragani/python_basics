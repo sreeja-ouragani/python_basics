{
  "nbformat": 4,
  "nbformat_minor": 0,
  "metadata": {
    "colab": {
      "provenance": []
    },
    "kernelspec": {
      "name": "python3",
      "display_name": "Python 3"
    },
    "language_info": {
      "name": "python"
    }
  },
  "cells": [
    {
      "cell_type": "code",
      "execution_count": null,
      "metadata": {
        "colab": {
          "base_uri": "https://localhost:8080/"
        },
        "id": "32fMJQJE4W6Y",
        "outputId": "643a8ac0-1844-49ee-d6dc-13799cdf7f26"
      },
      "outputs": [
        {
          "output_type": "execute_result",
          "data": {
            "text/plain": [
              "[1, 2, 3, 4, 5]"
            ]
          },
          "metadata": {},
          "execution_count": 1
        }
      ],
      "source": [
        "\n",
        "\n",
        "my_list = [1, 2, 3, 4, 5]\n",
        "my_list"
      ]
    },
    {
      "cell_type": "code",
      "source": [
        "\n",
        "print(my_list[:3])\n",
        "\n",
        "\n",
        "print(my_list[1:])\n",
        "\n",
        "print(my_list[1:4])\n",
        "\n",
        "print(my_list[-1])\n",
        "\n",
        "\n",
        "print(my_list[-2])\n",
        "\n",
        "print(my_list[::-1])\n"
      ],
      "metadata": {
        "colab": {
          "base_uri": "https://localhost:8080/"
        },
        "id": "rWnFbeCR7vAB",
        "outputId": "a07b82f1-3d3f-43c3-81ce-1e7a1a8b454c"
      },
      "execution_count": null,
      "outputs": [
        {
          "output_type": "stream",
          "name": "stdout",
          "text": [
            "[1, 2, 3]\n",
            "[2, 3, 4, 5]\n",
            "[2, 3, 4]\n",
            "5\n",
            "4\n",
            "[5, 4, 3, 2, 1]\n"
          ]
        }
      ]
    }
  ]
}